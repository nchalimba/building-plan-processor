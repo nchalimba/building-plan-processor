{
 "metadata": {
  "language_info": {
   "codemirror_mode": {
    "name": "ipython",
    "version": 3
   },
   "file_extension": ".py",
   "mimetype": "text/x-python",
   "name": "python",
   "nbconvert_exporter": "python",
   "pygments_lexer": "ipython3",
   "version": "3.9.5"
  },
  "orig_nbformat": 2,
  "kernelspec": {
   "name": "python395jvsc74a57bd05bd9775d38e1bf217930968b7df6cccbccae5b67d6aad912102d2f4543a03194",
   "display_name": "Python 3.9.5 64-bit ('projektstudium-nudata-gruppe-b-6LOUSkdq': pipenv)"
  }
 },
 "nbformat": 4,
 "nbformat_minor": 2,
 "cells": [
  {
   "cell_type": "code",
   "execution_count": 68,
   "source": [
    "from reportlab.platypus import SimpleDocTemplate, Paragraph, Spacer, Image\n",
    "from reportlab.lib.units import inch\n"
   ],
   "outputs": [],
   "metadata": {}
  },
  {
   "cell_type": "code",
   "execution_count": 60,
   "source": [
    "# standard A4\n",
    "report = SimpleDocTemplate(\"test_extraction_report.pdf\",\n",
    "                        rightMargin=72,leftMargin=72,\n",
    "                        topMargin=72,bottomMargin=18)"
   ],
   "outputs": [],
   "metadata": {}
  },
  {
   "cell_type": "code",
   "execution_count": 61,
   "source": [
    "# ExtractionReport and paths to plots and pictures\n",
    "ExtractionReport = []\n",
    "plot_path_1 = \"test_png_plots_pictures/outer_walls_R-Bau_D_EG.png\""
   ],
   "outputs": [],
   "metadata": {}
  },
  {
   "cell_type": "code",
   "execution_count": 63,
   "source": [
    "# positioning of the plot\n",
    "plot_1 = Image(plot_path_1, width=2*inch, height=2*inch)\n",
    "plot_1.hAlign = 'CENTER'\n",
    "ExtractionReport.append(plot_1)"
   ],
   "outputs": [],
   "metadata": {}
  },
  {
   "cell_type": "code",
   "execution_count": 58,
   "source": [
    "# build PDF\n",
    "report.build(ExtractionReport)"
   ],
   "outputs": [],
   "metadata": {}
  }
 ]
}