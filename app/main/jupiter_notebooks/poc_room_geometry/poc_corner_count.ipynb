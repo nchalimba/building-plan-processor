{
 "metadata": {
  "language_info": {
   "codemirror_mode": {
    "name": "ipython",
    "version": 3
   },
   "file_extension": ".py",
   "mimetype": "text/x-python",
   "name": "python",
   "nbconvert_exporter": "python",
   "pygments_lexer": "ipython3",
   "version": "3.9.5"
  },
  "orig_nbformat": 4,
  "kernelspec": {
   "name": "python3",
   "display_name": "Python 3.9.5 64-bit ('projektstudium-nudata-gruppe-b-6LOUSkdq': pipenv)"
  },
  "interpreter": {
   "hash": "5bd9775d38e1bf217930968b7df6cccbccae5b67d6aad912102d2f4543a03194"
  }
 },
 "nbformat": 4,
 "nbformat_minor": 2,
 "cells": [
  {
   "cell_type": "code",
   "execution_count": 1,
   "source": [
    "import sys  \n",
    "sys.path.insert(0, '')"
   ],
   "outputs": [],
   "metadata": {}
  },
  {
   "cell_type": "code",
   "execution_count": 2,
   "source": [
    "from app.main.models.polygon import Polygon\n",
    "from app.main.services.extraction_helper import ExtractionHelper\n",
    "from app.main.models.polygon import Polygon\n",
    "from app.main.models.point import Point\n",
    "from app.main.models.wall import Wall\n",
    "from collections import Counter\n"
   ],
   "outputs": [],
   "metadata": {}
  },
  {
   "cell_type": "code",
   "execution_count": 3,
   "source": [
    "# example points\n",
    "point_1 = Point(0.0, 0.0)\n",
    "point_2 = Point(0.0, 1.0)\n",
    "point_3 = Point(1.0, 1.0)\n",
    "point_4 = Point(1.0, 0.0)\n",
    "\n",
    "points_list = [point_1, point_2, point_3, point_4]\n",
    "print(points_list)"
   ],
   "outputs": [
    {
     "output_type": "stream",
     "name": "stdout",
     "text": [
      "[Point(x_coordinate=0.0, y_coordinate=0.0, s_width=None, e_width=None, b_value=None), Point(x_coordinate=0.0, y_coordinate=1.0, s_width=None, e_width=None, b_value=None), Point(x_coordinate=1.0, y_coordinate=1.0, s_width=None, e_width=None, b_value=None), Point(x_coordinate=1.0, y_coordinate=0.0, s_width=None, e_width=None, b_value=None)]\n"
     ]
    }
   ],
   "metadata": {}
  },
  {
   "cell_type": "code",
   "execution_count": 4,
   "source": [
    "# example walls\n",
    "wall_1 = Wall(point_1, None, point_2)\n",
    "wall_2 = Wall(point_2, None, point_3)\n",
    "wall_3 = Wall(point_3, None, point_4)\n",
    "wall_4 = Wall(point_4, None, point_1)\n",
    "\n",
    "wall_list = [wall_1, wall_2, wall_3, wall_4]"
   ],
   "outputs": [],
   "metadata": {}
  },
  {
   "cell_type": "code",
   "execution_count": 5,
   "source": [
    "# example polygon\n",
    "id = 1\n",
    "area = 1.0\n",
    "perimeter = 1.0\n",
    "has_roomstamp = True\n",
    "room = None\n",
    "points = points_list  \n",
    "walls = wall_list\n",
    "\n",
    "example_polygon = Polygon(id, area, perimeter, has_roomstamp, room, points,  None, None, None, None, None, None, None, walls) \n"
   ],
   "outputs": [],
   "metadata": {}
  },
  {
   "cell_type": "code",
   "execution_count": 6,
   "source": [
    "print(wall_list)"
   ],
   "outputs": [
    {
     "output_type": "stream",
     "name": "stdout",
     "text": [
      "[Wall(start_point=Point(x_coordinate=0.0, y_coordinate=0.0, s_width=None, e_width=None, b_value=None), sky_direction=None, end_point=Point(x_coordinate=0.0, y_coordinate=1.0, s_width=None, e_width=None, b_value=None), length=None, orientation=None, is_outer_wall=False, is_pillar=False, wall_thickness=None, window_length=None, wall_type=None, has_curves=None), Wall(start_point=Point(x_coordinate=0.0, y_coordinate=1.0, s_width=None, e_width=None, b_value=None), sky_direction=None, end_point=Point(x_coordinate=1.0, y_coordinate=1.0, s_width=None, e_width=None, b_value=None), length=None, orientation=None, is_outer_wall=False, is_pillar=False, wall_thickness=None, window_length=None, wall_type=None, has_curves=None), Wall(start_point=Point(x_coordinate=1.0, y_coordinate=1.0, s_width=None, e_width=None, b_value=None), sky_direction=None, end_point=Point(x_coordinate=1.0, y_coordinate=0.0, s_width=None, e_width=None, b_value=None), length=None, orientation=None, is_outer_wall=False, is_pillar=False, wall_thickness=None, window_length=None, wall_type=None, has_curves=None), Wall(start_point=Point(x_coordinate=1.0, y_coordinate=0.0, s_width=None, e_width=None, b_value=None), sky_direction=None, end_point=Point(x_coordinate=0.0, y_coordinate=0.0, s_width=None, e_width=None, b_value=None), length=None, orientation=None, is_outer_wall=False, is_pillar=False, wall_thickness=None, window_length=None, wall_type=None, has_curves=None)]\n"
     ]
    }
   ],
   "metadata": {}
  },
  {
   "cell_type": "code",
   "execution_count": 8,
   "source": [
    "start_points = []\n",
    "end_points = []\n",
    "corner_counter = 0\n",
    "\n",
    "for wall in wall_list:\n",
    "    start_points.append(wall.start_point)\n",
    "    end_points.append(wall.end_point)\n",
    "\n",
    "for i in range(len(start_points)): #4\n",
    "    for m in range(len(end_points)): #4\n",
    "        if start_points[i] == end_points[m]:\n",
    "            corner_counter = corner_counter + 1\n"
   ],
   "outputs": [],
   "metadata": {}
  },
  {
   "cell_type": "code",
   "execution_count": 9,
   "source": [
    "print(corner_counter)"
   ],
   "outputs": [
    {
     "output_type": "stream",
     "name": "stdout",
     "text": [
      "4\n"
     ]
    }
   ],
   "metadata": {}
  },
  {
   "cell_type": "code",
   "execution_count": 10,
   "source": [
    "def get_polygon_corners(polygon: Polygon):\n",
    "    '''\n",
    "    Description: This method determines the number of corners of a given polygon.\n",
    "    Params: polygon: Polygon\n",
    "    Return: corner_counter: int\n",
    "    '''\n",
    "\n",
    "    wall_list = polygon.walls\n",
    "    corner_counter = 0\n",
    "\n",
    "    start_points = []\n",
    "    end_points = []\n",
    "    \n",
    "    for wall in wall_list:\n",
    "        start_points.append(wall.start_point)\n",
    "        end_points.append(wall.end_point)\n",
    "        \n",
    "    for i in range(len(start_points)):\n",
    "        for m in range(len(end_points)):\n",
    "            if start_points[i] == end_points[m]:\n",
    "                corner_counter = corner_counter + 1\n",
    "    return corner_counter"
   ],
   "outputs": [],
   "metadata": {}
  },
  {
   "cell_type": "code",
   "execution_count": 11,
   "source": [
    "print(get_polygon_corners(example_polygon))"
   ],
   "outputs": [
    {
     "output_type": "stream",
     "name": "stdout",
     "text": [
      "4\n"
     ]
    }
   ],
   "metadata": {}
  },
  {
   "cell_type": "code",
   "execution_count": null,
   "source": [],
   "outputs": [],
   "metadata": {}
  }
 ]
}