{
 "metadata": {
  "language_info": {
   "codemirror_mode": {
    "name": "ipython",
    "version": 3
   },
   "file_extension": ".py",
   "mimetype": "text/x-python",
   "name": "python",
   "nbconvert_exporter": "python",
   "pygments_lexer": "ipython3",
   "version": "3.9.5"
  },
  "orig_nbformat": 2,
  "kernelspec": {
   "name": "python3",
   "display_name": "Python 3.9.5 64-bit ('projektstudium-nudata-gruppe-b-6LOUSkdq': pipenv)"
  },
  "interpreter": {
   "hash": "5bd9775d38e1bf217930968b7df6cccbccae5b67d6aad912102d2f4543a03194"
  }
 },
 "nbformat": 4,
 "nbformat_minor": 2,
 "cells": [
  {
   "cell_type": "code",
   "execution_count": 53,
   "source": [
    "import math\n",
    "import sys\n",
    "import ezdxf\n",
    "from shapely.geometry import Point, LineString\n",
    "from numpy import arctan2, dot, array\n",
    "from app.main.constants import *\n",
    "from app.main.models.wall import Wall\n",
    "from app.main.services.extraction_helper import ExtractionHelper"
   ],
   "outputs": [],
   "metadata": {}
  },
  {
   "cell_type": "code",
   "execution_count": 9,
   "source": [
    "def center_of_line(x_1, x_2, y_1, y_2):\n",
    "        x_coordinate = x_1 - 0.5 * (x_1 - x_2)\n",
    "        y_coordinate = y_1 - 0.5 * (y_1 - y_2)\n",
    "        return tuple((x_coordinate, y_coordinate))"
   ],
   "outputs": [],
   "metadata": {}
  },
  {
   "cell_type": "markdown",
   "source": [
    "_____\n",
    "## Determination of orientation with compass\n",
    "\n",
    "\"normal\" determination with compass\n",
    "___"
   ],
   "metadata": {}
  },
  {
   "cell_type": "code",
   "execution_count": 10,
   "source": [
    "def get_north_orientation(file_path):\n",
    "        # read dxf file\n",
    "        dxf_compass_EG = ezdxf.readfile(file_path)\n",
    "\n",
    "        # getting paperspace layout by name (bestandplan-compass)\n",
    "        psp = dxf_compass_EG.layout(NUDATA_COMPASS_LAYOUT)\n",
    "\n",
    "        # extract the entire compass (all lines of layer 0)\n",
    "        polylines = [p for p in psp.query('LWPolyline [layer == \"0\"]')]\n",
    "\n",
    "        # extract lines of compass\n",
    "        if len(polylines) == 2:\n",
    "            listOfPoints = []\n",
    "            for line in polylines:\n",
    "                listOfPoints.append((line.get_points()))\n",
    "\n",
    "            if listOfPoints[0][0] == listOfPoints[1][0]:\n",
    "                yaxis_endpoint = tuple(\n",
    "                    (listOfPoints[0][0][0], listOfPoints[0][0][1]))\n",
    "                yaxis_startpoint = []\n",
    "\n",
    "                x1 = listOfPoints[0][1][0]\n",
    "                x2 = listOfPoints[1][1][0]\n",
    "                y1 = listOfPoints[0][1][1]\n",
    "                y2 = listOfPoints[1][1][1]\n",
    "\n",
    "                # possilbe rotations of the compass\n",
    "                if x1 > x2 and y1 > y2:\n",
    "                    yaxis_startpoint = center_of_line(\n",
    "                        x1, x2, y1, y2)\n",
    "                elif x1 > x2 and y2 > y1:\n",
    "                    yaxis_startpoint = center_of_line(\n",
    "                        x1, x2, y2, y1)\n",
    "                elif x2 > x1 and y1 > y2:\n",
    "                    yaxis_startpoint = center_of_line(\n",
    "                        x2, x1, y1, y2)\n",
    "                elif x2 > x1 and y2 > y1:\n",
    "                    yaxis_startpoint = center_of_line(\n",
    "                        x2, x1, y2, y1)\n",
    "\n",
    "                yaxis_x = yaxis_endpoint[0] - yaxis_startpoint[0]\n",
    "                yaxis_y = yaxis_endpoint[1] - yaxis_startpoint[1]\n",
    "\n",
    "                origin = yaxis_startpoint\n",
    "                xaxis = array([-yaxis_x, yaxis_y, 0.0])\n",
    "                yaxis = array([-yaxis_y, -yaxis_x, 0.0])\n",
    "\n",
    "                return origin, xaxis, yaxis"
   ],
   "outputs": [],
   "metadata": {}
  },
  {
   "cell_type": "code",
   "execution_count": 12,
   "source": [
    "file_path = '../../media/Einfache_Plaene_Compass/R-Bau_D_EG.dxf'\n",
    "origin, xaxis, yaxis = get_north_orientation(file_path)"
   ],
   "outputs": [],
   "metadata": {}
  },
  {
   "cell_type": "code",
   "execution_count": 13,
   "source": [
    "print(\"origin: \", origin)\n",
    "print(\"xaxis: \", xaxis)\n",
    "print(\"yaxis: \", yaxis)\n"
   ],
   "outputs": [
    {
     "output_type": "stream",
     "name": "stdout",
     "text": [
      "origin:  (983.3369163510645, 52.603760215210514)\n",
      "xaxis:  [-14.86406844 -11.28115908   0.        ]\n",
      "yaxis:  [ 11.28115908 -14.86406844   0.        ]\n"
     ]
    }
   ],
   "metadata": {}
  },
  {
   "cell_type": "code",
   "execution_count": 14,
   "source": [
    "def full_angle_between(v1, v2):\n",
    "        dot = v1[0]*v2[0]+v1[1]*v2[1]\n",
    "        det = v1[0]*v2[1]-v2[0]*v1[1]\n",
    "\n",
    "        angle = math.degrees(arctan2(det, dot))\n",
    "        if angle < 0:\n",
    "            angle = 360-abs(angle)\n",
    "\n",
    "        return angle"
   ],
   "outputs": [],
   "metadata": {}
  },
  {
   "cell_type": "code",
   "execution_count": 15,
   "source": [
    "print(full_angle_between(xaxis, yaxis))"
   ],
   "outputs": [
    {
     "output_type": "stream",
     "name": "stdout",
     "text": [
      "90.0\n"
     ]
    }
   ],
   "metadata": {}
  },
  {
   "cell_type": "markdown",
   "source": [
    "___\n",
    "## Determination of orientation with angle\n",
    "### --------- Idea --------\n",
    "* Construct perpendicular line (points perpentcular to the top)\n",
    "* rotate this perpendicular line by a given angle alpha\n",
    "* the new line is the new yaxis\n",
    "* continue with same logic for processing yaxis\n",
    "___"
   ],
   "metadata": {}
  },
  {
   "cell_type": "code",
   "execution_count": 11,
   "source": [
    "\n",
    "line_1 = LineString([Point(0,0), Point(1,0)])\n",
    "line_1_middle = center_of_line(0,1,0,0)\n",
    "\n",
    "line_2 = LineString([Point(0,1), Point(1,1)])\n",
    "line_2_middle = center_of_line(0,1,1,1)\n",
    "\n",
    "x_1 = float(line_1_middle[0])\n",
    "x_2 = float(line_2_middle[0])\n",
    "y_1 = float(line_1_middle[1])\n",
    "y_2 = float(line_2_middle[1])\n",
    "\n",
    "perpendicular_line = array([0, 0, 0], dtype=float)\n",
    "perpendicular_line[0] = x_2-x_1\n",
    "perpendicular_line[1] = y_2-y_1\n",
    "\n",
    "print(perpendicular_line)"
   ],
   "outputs": [
    {
     "output_type": "stream",
     "name": "stdout",
     "text": [
      "[0. 1. 0.]\n"
     ]
    }
   ],
   "metadata": {}
  },
  {
   "cell_type": "code",
   "execution_count": 12,
   "source": [
    "def get_north_orientation_by_angle(angle: float):\n",
    "    '''\n",
    "    Description: This method uses perpendicular line and a rotation matrix (generate_rotation_matrix()) to determine a north oriented yaxis.\n",
    "    Params: angle: float \n",
    "    Return: yaxis: numpy.ndarray\n",
    "    '''\n",
    "\n",
    "    alpha = math.radians(angle)\n",
    "    perpendicular_line = array([0, 1, 0])\n",
    "\n",
    "    # Rotation axis (z-axis)\n",
    "    axis = array([0, 0, 1])\n",
    "    yaxis = dot(generate_rotation_matrix(axis, alpha), perpendicular_line)\n",
    "    return yaxis"
   ],
   "outputs": [],
   "metadata": {}
  },
  {
   "cell_type": "code",
   "execution_count": 25,
   "source": [
    "def generate_rotation_matrix(axis, alpha):\n",
    "    '''\n",
    "    Description: This method utilizes Euler-Rodrigues formular to generate a rotation matrix. Rotation about axis by alpha (in radians).\n",
    "    Params: angle: float \n",
    "    Return: numpy.ndarray\n",
    "    '''\n",
    "    \n",
    "    axis = axis / math.sqrt(dot(axis, axis))\n",
    "    a = math.cos(alpha / 2.0)\n",
    "    b, c, d = -axis * math.sin(alpha / 2.0)\n",
    "    aa, bb, cc, dd = a * a, b * b, c * c, d * d\n",
    "    bc, ad, ac, ab, bd, cd = b * c, a * d, a * c, a * b, b * d, c * d\n",
    "    return array([[aa + bb - cc - dd, 2 * (bc + ad), 2 * (bd - ac)],\n",
    "                     [2 * (bc - ad), aa + cc - bb - dd, 2 * (cd + ab)],\n",
    "                     [2 * (bd + ac), 2 * (cd - ab), aa + dd - bb - cc]])"
   ],
   "outputs": [],
   "metadata": {}
  },
  {
   "cell_type": "code",
   "execution_count": 26,
   "source": [
    "yaxis_new = get_north_orientation_by_angle(280)\n",
    "print(yaxis_new)\n",
    "print(type(yaxis_new))"
   ],
   "outputs": [
    {
     "output_type": "stream",
     "name": "stdout",
     "text": [
      "[0.98480775 0.17364818 0.        ]\n",
      "<class 'numpy.ndarray'>\n"
     ]
    }
   ],
   "metadata": {}
  },
  {
   "cell_type": "code",
   "execution_count": 27,
   "source": [
    "print(round(full_angle_between(perpendicular_line, yaxis_new), 4))"
   ],
   "outputs": [
    {
     "output_type": "stream",
     "name": "stdout",
     "text": [
      "280.0\n"
     ]
    }
   ],
   "metadata": {}
  },
  {
   "cell_type": "markdown",
   "source": [],
   "metadata": {}
  },
  {
   "cell_type": "code",
   "execution_count": 64,
   "source": [
    "COMPASS_ORIENTATION_PRIORITIZED = False\n",
    "print(COMPASS_ORIENTATION_PRIORITIZED)"
   ],
   "outputs": [
    {
     "output_type": "stream",
     "name": "stdout",
     "text": [
      "False\n"
     ]
    }
   ],
   "metadata": {}
  },
  {
   "cell_type": "code",
   "execution_count": 65,
   "source": [
    "calculate_orientation = False\n",
    "yaxis = None\n",
    "\n",
    "if COMPASS_ORIENTATION_PRIORITIZED:\n",
    "    try:\n",
    "        yaxis = \"Compass Orientation\"\n",
    "        calculate_orientation = True\n",
    "    except Exception:\n",
    "        pass\n",
    "\n",
    "        try:\n",
    "            yaxis = \"Angle Orientation\"\n",
    "            calculate_orientation = True\n",
    "        except KeyError:\n",
    "            calculate_orientation = False\n",
    "            \n",
    "\n",
    "else:\n",
    "    try:\n",
    "        yaxis = \"Angle Orientation\"\n",
    "        calculate_orientation = True\n",
    "    except Exception:\n",
    "        pass\n",
    "    \n",
    "        try:\n",
    "            yaxis = \"Compass Orientation\"\n",
    "            calculate_orientation = True\n",
    "        except KeyError:\n",
    "            calculate_orientation = False"
   ],
   "outputs": [],
   "metadata": {}
  },
  {
   "cell_type": "code",
   "execution_count": 66,
   "source": [
    "print(calculate_orientation)\n",
    "print(yaxis)"
   ],
   "outputs": [
    {
     "output_type": "stream",
     "name": "stdout",
     "text": [
      "True\n",
      "Angle Orientation\n"
     ]
    }
   ],
   "metadata": {}
  }
 ]
}