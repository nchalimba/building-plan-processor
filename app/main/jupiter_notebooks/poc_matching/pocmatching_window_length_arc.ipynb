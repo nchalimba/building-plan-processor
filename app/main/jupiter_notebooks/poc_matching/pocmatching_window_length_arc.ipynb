{
 "metadata": {
  "language_info": {
   "codemirror_mode": {
    "name": "ipython",
    "version": 3
   },
   "file_extension": ".py",
   "mimetype": "text/x-python",
   "name": "python",
   "nbconvert_exporter": "python",
   "pygments_lexer": "ipython3",
   "version": "3.9.5"
  },
  "orig_nbformat": 2,
  "kernelspec": {
   "name": "python3",
   "display_name": "Python 3.9.5 64-bit ('projektstudium-nudata-gruppe-b-9rgV7Z_-': pipenv)"
  },
  "interpreter": {
   "hash": "a2e8dc7b330b846a1166b3ee08f1690e3baf42e4a765ca84e697d32a84b6ec5f"
  }
 },
 "nbformat": 4,
 "nbformat_minor": 2,
 "cells": [
  {
   "cell_type": "markdown",
   "source": [
    "## Importsetup"
   ],
   "metadata": {}
  },
  {
   "cell_type": "code",
   "execution_count": 2,
   "source": [
    "from app.main.extraction.dxf_extraction_coordinator import DxfExtractionCoordinator\n",
    "from app.main.models.wall import Wall \n",
    "from app.main.models.architecture_wall import Architecture_Wall\n",
    "from app.main.models.point import Point \n",
    "from app.main.models.window import Window\n",
    "from app.main.models.line import Line\n",
    "from app.main.services.walls_extraction import WallsExtraction\n",
    "from app.main.services.dxf_extraction_simple import DxfExtractionSimple\n",
    "from app.main.dtos.request.extraction_request_file import ExtractionRequestFile\n",
    "from app.main.models.line import Line \n",
    "from app.main.constants import (PLOT_DPI, PLOT_LINE_WIDTH_LARGE,\n",
    "                                PLOT_LINE_WIDTH_SMALL, DefaultColors,\n",
    "                                OrientationColors, PlotStyle, PlotTypes)\n",
    "from app.main.models.facade_arc import FacadeArc\n",
    "###########################################################################\n",
    "from shapely.geometry.polygon import LinearRing\n",
    "from shapely.geometry.polygon import Polygon as shapePolygon\n",
    "from shapely.geometry import Point as shapePoint\n",
    "from shapely.geometry import LineString\n",
    "from shapely.geometry import Point as ShapelyPoint\n",
    "import math\n",
    "import numpy as np\n",
    "import itertools as it\n",
    "from scipy.spatial.distance import cdist\n",
    "import ezdxf\n",
    "import uuid\n",
    "\n",
    "import matplotlib.pyplot as plt\n",
    "import matplotlib.patches as mpatches\n",
    "import operator\n",
    "\n",
    "###########################################################################\n",
    "file_path_simple = '../../media/Einfache_Plaene_Compass/'\n",
    "file_path_architecture = '../../media/Architektenplaene/'\n",
    "###########################################################################\n",
    "file_name_simple = 'R-Bau_D_EG.dxf'\n",
    "file_name_architecutre = 'R-Bau_A_EG.dxf'\n",
    "###########################################################################\n",
    "simple_dxf = ezdxf.readfile(file_path_simple+file_name_simple)\n",
    "architecture_dxf = ezdxf.readfile(file_path_architecture+file_name_architecutre)\n",
    "simple_model = simple_dxf.modelspace()\n",
    "arichtecture_model = architecture_dxf.modelspace()"
   ],
   "outputs": [],
   "metadata": {}
  },
  {
   "cell_type": "markdown",
   "source": [
    "## In the block below there will be created a dxf-File for analysis purposes."
   ],
   "metadata": {}
  },
  {
   "cell_type": "code",
   "execution_count": 13,
   "source": [
    "#Read pillar circles from architecture wall\n",
    "architecture_polylines = []\n",
    "architecture_lines = []\n",
    "fassaden_polylines = arichtecture_model.query(\"LWPolyline[layer=='A_05_FASSADE_ELEMENTE']\")#.first.get_points('xy')\n",
    "\n",
    "#lines\n",
    "fassaden_lines = arichtecture_model.query(\"LINE[layer=='A_05_FASSADE_ELEMENTE']\")\n",
    "\n",
    "#Arcs\n",
    "fassaden_arc = arichtecture_model.query(\"ARC[layer=='A_05_FASSADE_ELEMENTE']\")\n",
    "\n",
    "for polyline in fassaden_polylines:\n",
    "    architecture_polylines.append(polyline)\n",
    "for line in fassaden_lines:\n",
    "    architecture_lines.append(line)\n",
    "\n",
    "doc = ezdxf.new('R2000')\n",
    "msp = doc.modelspace()\n",
    "doc.layers.new(name='FASSADE_LINES', dxfattribs={'linetype': 'DASHED', 'color': 1})\n",
    "doc.layers.new(name='FASSADE_POLYLINES', dxfattribs={'linetype': 'DASHED', 'color': 2})\n",
    "doc.layers.new(name='FASSADE_ARCS', dxfattribs={'linetype': 'DASHED', 'color': 3})\n",
    "\n",
    "#linetypes = ['BYLAYER', 'HIDDEN', '4.102_EG$0$CONTINOUS']\n",
    "linetypes = ['HIDDEN']\n",
    "for x in architecture_polylines:\n",
    "    #mylinetype = x.dxf.linetype\n",
    "    #if mylinetype not in linetypes:\n",
    "    #    linetypes.append(mylinetype)\n",
    "    if x.dxf.linetype in linetypes:\n",
    "        msp.add_lwpolyline(x, dxfattribs={'layer': 'FASSADE_POLYLINES'})\n",
    "\n",
    "#add lines to drawing\n",
    "coordinates = []\n",
    "\n",
    "for e in architecture_lines:\n",
    "    #mylinetype = e.dxf.linetype\n",
    "    #if mylinetype not in linetypes:\n",
    "    #    linetypes.append(mylinetype)\n",
    "    if e.dxftype() == 'LINE' and e.dxf.linetype in linetypes:\n",
    "        tupel = (e.dxf.start, e.dxf.end)\n",
    "        coordinates.append(tupel)\n",
    "\n",
    "for x in coordinates:\n",
    "    msp.add_line(x[0], x[1], dxfattribs={'layer': 'FASSADE_LINES'})\n",
    "\n",
    "\n",
    "#add arcs to drwawing\n",
    "for x in fassaden_arc:\n",
    "    #mylinetype = x.dxf.linetype\n",
    "    #if mylinetype not in linetypes:\n",
    "    #    linetypes.append(mylinetype)\n",
    "    if  x.dxf.linetype in linetypes:\n",
    "        msp.add_arc(x.dxf.center, x.dxf.radius, x.dxf.start_angle, x.dxf.end_angle, True, dxfattribs={'layer': 'FASSADE_ARCS'})\n",
    "\n",
    "print(linetypes)\n",
    "doc.saveas(\"facade_arcs.dxf\")\n"
   ],
   "outputs": [
    {
     "output_type": "stream",
     "name": "stdout",
     "text": [
      "['HIDDEN']\n"
     ]
    }
   ],
   "metadata": {}
  },
  {
   "cell_type": "code",
   "execution_count": 19,
   "source": [
    "'''This method creates a custom dxf file with all lines an arcs of an list of arcs. '''\n",
    "def draw_arcs_and_lines(facade_arcs: list[FacadeArc]):\n",
    "    file_name = \"facade_arcs_and_lines.dxf\"\n",
    "    doc = ezdxf.new('R2000')\n",
    "    msp = doc.modelspace()  \n",
    "    doc.layers.new(name='FASSADE_ARCS', dxfattribs={'linetype': 'DASHED', 'color': 3})\n",
    "    doc.layers.new(name='FASSADE_ARC_LINES', dxfattribs={'linetype': 'DASHED', 'color': 1})\n",
    "    for facade_arc in facade_arcs:\n",
    "        center_point = convert_point_to_coordinate(facade_arc.center_point)\n",
    "        msp.add_arc(center_point, facade_arc.radius, facade_arc.start_angle, facade_arc.end_angle, True, dxfattribs={'layer': 'FASSADE_ARCS'})\n",
    "        if not facade_arc.lines:\n",
    "            continue\n",
    "        for line in facade_arc.lines:\n",
    "            start_point = convert_point_to_coordinate(line.start_point)\n",
    "            end_point = convert_point_to_coordinate(line.end_point)\n",
    "            msp.add_line(start_point, end_point, dxfattribs={'layer': 'FASSADE_ARC_LINES'})\n",
    "    doc.saveas(file_name)\n",
    "\n",
    "\n",
    "''' This method converts a point object int a coordinate. '''    \n",
    "def convert_point_to_coordinate(point: Point):\n",
    "    return (point.x_coordinate, point.y_coordinate)\n"
   ],
   "outputs": [],
   "metadata": {}
  },
  {
   "cell_type": "code",
   "execution_count": 20,
   "source": [
    "''' This method creates a point object from an coordinate tuple.'''\n",
    "def create_point_from_coordinate(coordinate: tuple) -> Point:\n",
    "    return Point(x_coordinate=coordinate[0], y_coordinate=coordinate[1])"
   ],
   "outputs": [],
   "metadata": {}
  },
  {
   "cell_type": "code",
   "execution_count": 21,
   "source": [
    "#quick check\n",
    "np.sin(np.deg2rad(90))\n",
    "np.cos(np.deg2rad(90))"
   ],
   "outputs": [
    {
     "output_type": "execute_result",
     "data": {
      "text/plain": [
       "6.123233995736766e-17"
      ]
     },
     "metadata": {},
     "execution_count": 21
    }
   ],
   "metadata": {}
  },
  {
   "cell_type": "code",
   "execution_count": 22,
   "source": [
    "''' This method creates a linestring from two point objects.'''\n",
    "def create_line_string_of_two_points(point_1: Point, point_2: Point)-> LineString:\n",
    "    return LineString([(point_1.x_coordinate, point_1.y_coordinate), (point_2.x_coordinate, point_2.y_coordinate)])"
   ],
   "outputs": [],
   "metadata": {}
  },
  {
   "cell_type": "code",
   "execution_count": 23,
   "source": [
    "''' This method reads all the arc ezdxf entities from the layer fassaden_elemente and transforms them to facade_arcs'''\n",
    "def read_arcs(dxf_file) -> list[FacadeArc]:\n",
    "    architecture_model = architecture_dxf.modelspace()\n",
    "    dxf_arcs = architecture_model.query(\"ARC[layer=='A_05_FASSADE_ELEMENTE']\")\n",
    "    facade_arcs = []\n",
    "    for dxf_arc in dxf_arcs:\n",
    "        if dxf_arc.dxf.radius > 2.0:\n",
    "            facade_arcs.append(convert_dxf_to_object_arc(dxf_arc))\n",
    "    return facade_arcs\n",
    "\n",
    "''' This method converts a edxf arc into a facadearc object. '''\n",
    "def convert_dxf_to_object_arc(dxf_arc) -> FacadeArc:\n",
    "    center_point = create_point_from_coordinate(dxf_arc.dxf.center)\n",
    "    start_point = create_point_from_coordinate(dxf_arc.start_point)\n",
    "    end_point = create_point_from_coordinate(dxf_arc.end_point)\n",
    "\n",
    "    radius = dxf_arc.dxf.radius\n",
    "    start_angle = dxf_arc.dxf.start_angle\n",
    "    end_angle = dxf_arc.dxf.end_angle\n",
    "\n",
    "    perimeter = 2 * math.pi * radius * ((end_angle - start_angle) / 360)\n",
    "    delta_angle = get_delta_angle(perimeter, start_angle, end_angle)\n",
    "    lines = get_lines(start_angle, end_angle, delta_angle, center_point, start_point, end_point, radius)\n",
    "\n",
    "    return FacadeArc(center_point, start_point, end_point, radius, start_angle, end_angle, perimeter=perimeter, delta_angle=delta_angle, lines=lines)\n",
    "\n",
    "''' This method gets the lenght per line.'''\n",
    "def get_line_length(perimeter: float):\n",
    "    MIN_LINE_LENGTH = 5\n",
    "    if perimeter <= MIN_LINE_LENGTH:\n",
    "        return perimeter\n",
    "    \n",
    "    ratio = perimeter / MIN_LINE_LENGTH\n",
    "    amount_lines = math.floor(ratio)\n",
    "    return perimeter / amount_lines\n",
    "\n",
    "''' This method calculates the delta angle for detecting shared lenghts. '''  \n",
    "def get_delta_angle(perimeter: float, start_angle: float, end_angle: float):\n",
    "    line_length = get_line_length(perimeter)\n",
    "    amount_lines = perimeter / line_length\n",
    "    return (end_angle - start_angle) / amount_lines\n",
    "\n",
    "''' This method creates a list of lines for one given arc.'''\n",
    "def get_lines(start_angle: float, end_angle: float, delta_angle: float, center_point: Point, start_point: Point, end_point: Point, radius: float):\n",
    "\n",
    "    first_point = end_point\n",
    "    first_angle = end_angle\n",
    "    line_count = int((end_angle - start_angle) / delta_angle)\n",
    "    lines = []\n",
    "    for i in range(line_count):\n",
    "        second_angle = first_angle - (i + 1) * delta_angle\n",
    "        second_point = get_arc_point(center_point, radius, second_angle)\n",
    "\n",
    "        line = create_line_from_two_points(first_point, second_point)\n",
    "        lines.append(line)\n",
    "        first_point = second_point\n",
    "\n",
    "    return lines\n",
    "\n",
    "''' This method creates a Point object on a radius line segment.'''\n",
    "def get_arc_point(center_point: Point, radius: float, angle: float) -> Point:\n",
    "    dx = radius * np.cos(np.deg2rad(angle))\n",
    "    dy = radius * np.sin(np.deg2rad(angle))\n",
    "\n",
    "    x_coordinate = center_point.x_coordinate + dx\n",
    "    y_coordinate = center_point.y_coordinate + dy\n",
    "    return Point(x_coordinate, y_coordinate)\n",
    "\n",
    "''' This method cretes a line object form two point objects.'''\n",
    "def create_line_from_two_points(start_point: Point, end_point: Point):\n",
    "    line_string = create_line_string_of_two_points(start_point, end_point)\n",
    "    return Line(\"id\", line_string, start_point=start_point, end_point=end_point)\n",
    "\n",
    "''' This method creates a Linestring from two point objects. '''\n",
    "def create_line_string_of_two_points(point_1: Point, point_2: Point)-> LineString:\n",
    "    return LineString([(point_1.x_coordinate, point_1.y_coordinate), (point_2.x_coordinate, point_2.y_coordinate)])\n",
    "\n",
    "'''\n",
    "facade_arcs = read_arcs(architecture_dxf)\n",
    "for facade_arc in facade_arcs:\n",
    "    print(\"###################\")\n",
    "    print(facade_arc)\n",
    "draw_arcs_and_lines(facade_arcs)\n",
    "'''\n",
    "\n",
    "'''\n",
    "arcs = read_arcs(architecture_dxf)\n",
    "draw_arcs_and_lines(arcs)\n",
    "#print(arcs)\n",
    "data = []\n",
    "for arc in arcs:\n",
    "    data.append(arc.perimeter)\n",
    "\n",
    "print(data)'''\n",
    "print(get_line_length(0.4))"
   ],
   "outputs": [
    {
     "output_type": "stream",
     "name": "stdout",
     "text": [
      "0.4\n"
     ]
    }
   ],
   "metadata": {}
  },
  {
   "cell_type": "code",
   "execution_count": 11,
   "source": [
    "''' This method plots a lines of an arcs list.'''\n",
    "def plot_lines_of_arcs(facade_arcs: list[FacadeArc]):\n",
    "    for facade_arc in facade_arcs:\n",
    "        for line in facade_arc.lines:\n",
    "            plt.plot([line.start_point.x_coordinate, line.end_point.x_coordinate], [line.start_point.y_coordinate, line.end_point.y_coordinate], color=\"b\", linewidth=PLOT_LINE_WIDTH_LARGE)\n",
    "            plt.savefig(\"facade_plot.png\", dpi=PLOT_DPI)\n",
    "            plt.clf()\n",
    "\n",
    "'''This method creates a line object form two given coordinates.'''\n",
    "def get_line_from_coordinates(coordinate_1, coordinate_2):\n",
    "    line_string = get_line_string_of_two_coordinates(coordinate_1, coordinate_2)\n",
    "    start_point = create_point_from_coordinate(coordinate_1)\n",
    "    end_point = create_point_from_coordinate(coordinate_2)\n",
    "    return Line(\"id\", line_string, start_point=start_point, end_point=end_point)\n",
    "\n",
    "''' This method creates a list of Line objects from a polyline'''\n",
    "def create_lines_from_polylines(polylines: list) ->list[Line]:\n",
    "    lines = []\n",
    "    for polyline in polylines:\n",
    "        for i in range(len(polyline)-1):\n",
    "            line = get_line_from_coordinates(polyline[i], polyline[i + 1])\n",
    "            lines.append(line)\n",
    "    return lines\n",
    "\n",
    "\n",
    "''' This method creates a Linestring from two coordinates. '''\n",
    "def get_line_string_of_two_coordinates(coordinate_1, coordinate_2):\n",
    "    return LineString([(coordinate_1[0], coordinate_1[1]), (coordinate_2[0], coordinate_2[1])])"
   ],
   "outputs": [],
   "metadata": {}
  },
  {
   "cell_type": "code",
   "execution_count": 24,
   "source": [
    "''' This method gets the lenght between two points.'''\n",
    "def get_length_between_points(point_1: Point, point_2: Point) -> float:\n",
    "    line_string = LineString([(point_1.x_coordinate, point_1.y_coordinate), (point_2.x_coordinate, point_2.y_coordinate)])\n",
    "    return line_string.length"
   ],
   "outputs": [],
   "metadata": {}
  },
  {
   "cell_type": "code",
   "execution_count": 25,
   "source": [
    "''' This method creates a linestring form two coordinates.'''\n",
    "def get_line_string_of_two_coordinates(coordinate_1, coordinate_2):\n",
    "    return LineString([(coordinate_1[0], coordinate_1[1]), (coordinate_2[0], coordinate_2[1])])"
   ],
   "outputs": [],
   "metadata": {}
  },
  {
   "cell_type": "code",
   "execution_count": 26,
   "source": [
    "''' This method creates a Line object from two coordinates.'''\n",
    "def get_line_from_coordinates(coordinate_1, coordinate_2):\n",
    "    line_string = get_line_string_of_two_coordinates(coordinate_1, coordinate_2)\n",
    "    start_point = create_point_from_coordinate(coordinate_1)\n",
    "    end_point = create_point_from_coordinate(coordinate_2)\n",
    "    return Line(\"id\", line_string, start_point=start_point, end_point=end_point)\n",
    "\n",
    "''' This method creates a list of lines from a polyline. '''\n",
    "def create_lines_from_polylines(polylines: list) ->list[Line]:\n",
    "    lines = []\n",
    "    for polyline in polylines:\n",
    "        for i in range(len(polyline)-1):\n",
    "            line = get_line_from_coordinates(polyline[i], polyline[i + 1])\n",
    "            lines.append(line)\n",
    "    return lines\n",
    "\n",
    "''' This method creates a linestring from a wall object.'''\n",
    "def create_line_string_for_wall(wall: Wall):\n",
    "    return LineString([(wall.start_point.x_coordinate, wall.start_point.y_coordinate), (wall.end_point.x_coordinate, wall.end_point.y_coordinate)])\n",
    "\n",
    "''' This method checks if a point is on a given linestring including a threshold value.'''\n",
    "def is_point_on_line(point: Point, line: LineString):\n",
    "    threshold = 0.05\n",
    "    coordinate = ShapelyPoint(point.x_coordinate, point.y_coordinate)\n",
    "    return line.distance(coordinate) < threshold\n",
    "    "
   ],
   "outputs": [],
   "metadata": {}
  },
  {
   "cell_type": "markdown",
   "source": [
    "### The following block is for testing purposes."
   ],
   "metadata": {}
  },
  {
   "cell_type": "code",
   "execution_count": 27,
   "source": [
    "facade_polylines = arichtecture_model.query(\"LWPolyline[layer=='A_05_FASSADE_ELEMENTE']\")#.first.get_points('xy')\n",
    "lines = create_lines_from_polylines(facade_polylines)\n",
    "#lines\n",
    "facade_lines = arichtecture_model.query(\"LINE[layer=='A_05_FASSADE_ELEMENTE']\")\n",
    "for facade_line in facade_lines:\n",
    "    line = get_line_from_coordinates(facade_line.dxf.start, facade_line.dxf.end)\n",
    "    lines.append(line)\n",
    "\n",
    "arcs = read_arcs(architecture_dxf)\n",
    "print(len(lines))\n",
    "amount_arc_lines = 0\n",
    "for arc in arcs:\n",
    "    amount_arc_lines += len(arc.lines)\n",
    "print(amount_arc_lines)\n",
    "#plot_lines_of_arcs(arcs)"
   ],
   "outputs": [
    {
     "output_type": "stream",
     "name": "stdout",
     "text": [
      "5188\n",
      "198\n"
     ]
    }
   ],
   "metadata": {}
  },
  {
   "cell_type": "markdown",
   "source": [
    "### The follwoing block is for extracting a simple plan for testing purposes."
   ],
   "metadata": {}
  },
  {
   "cell_type": "code",
   "execution_count": 28,
   "source": [
    "#Simple plan auslesen\n",
    "dxf_file = ezdxf.readfile(file_path_simple + file_name_simple)\n",
    "dxf_extraction_simple = DxfExtractionSimple()\n",
    "simple_polygons, polygons_with_virtual_entities, extracted_functionalities, counter_polygon_closed = dxf_extraction_simple.get_all_polygons(dxf_file ,file_path_simple + file_name_simple)\n"
   ],
   "outputs": [
    {
     "output_type": "stream",
     "name": "stderr",
     "text": [
      "2021-06-18 11:51:35.747 | SUCCESS  | app.main.services.orientation_extraction:get_north_orientation:116 - Compass extraction successful, return coordinate system\n",
      "2021-06-18 11:51:35.747 | INFO     | app.main.services.dxf_extraction_simple:get_all_polygons:97 - Orientation will be calculated with compass.\n",
      "2021-06-18 11:51:35.748 | SUCCESS  | app.main.services.extraction_helper:get_modelspace:191 - sucessfully get_modelspace() from dxf_file: <ezdxf.document.Drawing object at 0x0000027A3C0DC160>\n",
      "2021-06-18 11:51:35.749 | DEBUG    | app.main.services.extraction_helper:get_outline_polygon:200 - get_outline_polygon for modelspace: <ezdxf.layouts.layout.Modelspace object at 0x0000027A3B1E2B50>\n",
      "2021-06-18 11:51:35.794 | DEBUG    | app.main.services.dxf_extraction_simple:get_all_polygons:145 - got all room_polylines on layer: RAUMPOLYGON\n",
      "2021-06-18 11:51:36.152 | INFO     | app.main.services.dxf_extraction_simple:get_all_polygons:192 - Extracting neighbours...\n",
      "Neighbours - Progress: 100%|██████████| 246/246 [00:02<00:00, 95.47it/s] \n",
      "2021-06-18 11:51:38.737 | INFO     | app.main.services.dxf_extraction_simple:get_all_polygons:200 - Neighbours extracted\n",
      "2021-06-18 11:51:38.738 | INFO     | app.main.services.dxf_extraction_simple:get_all_polygons:205 - Extracting outer walls...\n",
      "Outer Walls - Progress: 100%|██████████| 246/246 [00:27<00:00,  8.92it/s]\n",
      "2021-06-18 11:52:06.325 | INFO     | app.main.services.dxf_extraction_simple:get_all_polygons:221 - Outer walls extracted\n"
     ]
    }
   ],
   "metadata": {}
  },
  {
   "cell_type": "code",
   "execution_count": 29,
   "source": [
    "''' This method calculates the window lenght for a wall depending on a list of arcs and lines.'''\n",
    "def calculate_window_length(wall: Wall, facade_arcs: list[FacadeArc], lines: list[Line]) -> float:\n",
    "    window_length = get_window_length_of_wall(wall, lines)\n",
    "    window_length_sum = 0.0\n",
    "    wall_length = get_length_between_points(wall.start_point, wall.end_point)\n",
    "    if window_length < wall_length:\n",
    "        for facade_arc in facade_arcs:\n",
    "            if facade_arc.lines:\n",
    "                window_length_new = get_window_length_of_wall(wall, facade_arc.lines)\n",
    "                window_length_sum += window_length_new\n",
    "    return min(window_length + window_length_sum, wall_length)"
   ],
   "outputs": [],
   "metadata": {}
  },
  {
   "cell_type": "code",
   "execution_count": 30,
   "source": [
    "''' This method gets the window lenght from an given wall.'''\n",
    "def get_window_length_of_wall(wall: Wall, lines: list[Line])->float:\n",
    "    wall_line_string = create_line_string_for_wall(wall)\n",
    "    window_length_sum = 0.0\n",
    "    for line in lines:\n",
    "        window_length = 0.0\n",
    "        if not is_point_on_line(wall.start_point, line.line_string) and not is_point_on_line(wall.end_point, line.line_string):\n",
    "            if is_point_on_line(line.start_point, wall_line_string) and is_point_on_line(line.end_point, wall_line_string):\n",
    "                window_length = get_length_between_points(line.start_point, line.end_point)\n",
    "                #print(\"Länge berechnet! Option 1\")\n",
    "           \n",
    "        elif is_point_on_line(wall.start_point, line.line_string) and is_point_on_line(wall.end_point, line.line_string):\n",
    "            window_length = get_length_between_points(wall.start_point, wall.end_point)\n",
    "            #print(\"Länge berechnet! Option 2\")\n",
    "        else:\n",
    "            wall_point_on_line = None\n",
    "            line_point_on_wall = None\n",
    "            if is_point_on_line(wall.start_point, line.line_string):\n",
    "                wall_point_on_line = wall.start_point\n",
    "            elif is_point_on_line(wall.end_point, line.line_string):\n",
    "                wall_point_on_line = wall.end_point\n",
    "        \n",
    "            if is_point_on_line(line.start_point, wall_line_string):\n",
    "                line_point_on_wall = line.start_point\n",
    "            elif is_point_on_line(line.end_point, wall_line_string):\n",
    "                line_point_on_wall = line.end_point\n",
    "            \n",
    "            if wall_point_on_line and line_point_on_wall:\n",
    "                window_length = get_length_between_points(wall_point_on_line, line_point_on_wall)\n",
    "                #print(\"Länge berechnet! Option 3\")\n",
    "        \n",
    "        window_length_sum += window_length\n",
    "    return window_length_sum"
   ],
   "outputs": [],
   "metadata": {}
  },
  {
   "cell_type": "markdown",
   "source": [
    "### The following block is used for testing the logic above."
   ],
   "metadata": {}
  },
  {
   "cell_type": "code",
   "execution_count": 32,
   "source": [
    "facade_polylines = arichtecture_model.query(\"LWPolyline[layer=='A_05_FASSADE_ELEMENTE']\")#.first.get_points('xy')\n",
    "lines = create_lines_from_polylines(facade_polylines)\n",
    "#lines\n",
    "facade_lines = arichtecture_model.query(\"LINE[layer=='A_05_FASSADE_ELEMENTE']\")\n",
    "for facade_line in facade_lines:\n",
    "    line = get_line_from_coordinates(facade_line.dxf.start, facade_line.dxf.end)\n",
    "    lines.append(line)\n",
    "\n",
    "print(\"Amount of lines found in facade layer: {}\".format(str(len(lines))))\n",
    "\n",
    "amount_walls = 0\n",
    "for polygon in simple_polygons:\n",
    "    for wall in polygon.walls:\n",
    "        if not wall.is_outer_wall:\n",
    "            continue\n",
    "        amount_walls += 1\n",
    "\n",
    "print(\"Amount of walls found in simple plan: {}\".format(str(amount_walls)))\n",
    "\n",
    "facade_arcs = read_arcs(architecture_dxf)\n",
    "\n",
    "window_lengths = []\n",
    "counter = 0\n",
    "for polygon in simple_polygons:\n",
    "    for wall in polygon.walls:\n",
    "        if not wall.is_outer_wall:\n",
    "            continue\n",
    "        progress = round((counter / amount_walls) * 100, 2)\n",
    "        if progress % 5 == 0:\n",
    "            print(\"Progress: {} %\".format(str(progress)))\n",
    "        window_length = calculate_window_length(wall, facade_arcs, lines)\n",
    "        wall.window_length = window_length\n",
    "        window_lengths.append(window_length)\n",
    "        counter += 1\n",
    "\n",
    "print(window_lengths)\n",
    "#minimale window length, maximale window length, wieviele haben length"
   ],
   "outputs": [
    {
     "output_type": "stream",
     "name": "stdout",
     "text": [
      "Amount of lines found in facade layer: 5188\n",
      "Amount of walls found in simple plan: 329\n",
      "Progress: 0.0 %\n",
      "[6.439507147243732, 6.439507147243734, 0.001410583207413587, 0.0, 0.0, 0.0, 0.0, 0.0, 0.0, 0.0, 9.430343020278245, 0.0, 0.0, 1.8860686040556922, 6.244299935442258, 0.0, 0.0, 1.2488599870884638, 3.764279138697746, 3.764336383744076, 0.08421361158681713, 0.07860841079821038, 0.0, 6.374243325710002, 5.844456216908312, 0.0, 1.7902576310894016, 0.0, 2.429997999975674, 0.10356676813103927, 0.0, 7.390261203383382, 1.4780522406766796, 0.0, 0.0, 0.0, 0.0, 0.0, 0.0, 7.407348606509522, 0.0, 0.0, 1.4814697213019041, 0.0, 2.355000185342913, 7.663890312032113, 4.960000000000001, 3.5600000000000005, 3.660000000000002, 1.9340631779610493, 9.670315889805234, 0.39224999383894205, 3.5424999999967994, 0.0, 3.5249999999999986, 0.0, 0.0, 3.549999999999997, 0.0, 0.0, 0.0, 0.0, 0.0, 0.0, 0.0, 0.0, 0.0, 0.0, 0.0, 0.0, 0.0, 0.0, 0.0, 0.0, 4.556359795276089, 0.04463184874666115, 0.0, 0.0, 0.47999999999998977, 6.455000047082649, 14.415000500514669, 0.47999999999998977, 0.01959283587487794, 0.0, 0.0, 1.408333333333371, 7.041666666666869, 0.7766664999998909, 0.09000000000000341, 0.0, 0.012088850173572904, 0.012088850173572904, 0.020935667020962025, 0.7599999999999909, 6.752083333333331, 0.0, 0.0, 6.752083333333331, 0.0, 0.0, 2.7008333333333354, 0.6139665277777766, 3.069832638888883, 0.7367598333333376, 9.36457611324761, 3.660001000000001, 0.000518782024687099, 0.0206243412655749, 0.4799989999999923, 3.9250002777749984, 3.6250551719939486, 3.6953354999999988, 7.698615625000002, 7.698615624999999, 3.07944625, 8.141528098558945, 8.141528098558945, 0.14536856977603382, 0.0, 0.0, 0.0, 0.0, 0.0, 0.47999999999998977, 6.259998436042158, 7.033269976864869, 1.4066539953730122, 10.21670329529008, 0.0, 0.0, 2.0433406590580283, 0.3899829395088911, 5.069997006058035, 0.0, 0.0, 0.0, 1.1159906149644028, 0.0, 0.0, 0.030463131822536318, 2.963568809176512, 2.963568809176515, 4.0370525000000015, 0.8074105000000031, 0.0, 2.5850009993557026, 8.712498333870451, 2.0475454075527435, 0.2180112649582739, 3.2525000000000364, 3.2525000000000364, 5.125, 5.125, 0.11024881034034507, 0.07614559962681139, 0.14730962672190445, 0.11078225107154555, 0.07670633793773454, 3.6250009999999975, 10.019999999999996, 10.186999, 5.03709234082522, 0.012408242760814545, 0.0, 0.0, 0.0, 14.099999999999998, 14.150000000000002, 0.02584785054519691, 0.07000553913330451, 3.6249999999999982, 0.0, 0.9800000000000164, 0.0, 0.0, 0.28042330679411226, 0.0005281828900599319, 0.04468558581844438, 1.10000030186822, 0.13598195324833898, 0.12462217028692735, 8.024080076049657, 0.0, 0.0, 0.19796533226190277, 4.530000000000001, 1.7686949187403074, 0.3537389837480616, 0.0, 14.365708180736487, 0.08994852964416905, 0.0, 0.11254249838199769, 2.322342735195386, 0.0, 0.882794210967098, 0.8699769376564529, 0.8937846966918741, 10.275493106782577, 5.01307602495352, 0.030091685141796932, 3.950111935111631, 0.1093606228337388, 0.1601855917371671, 0.1310482339709707, 0.15663346100090814, 0.18544587919977765, 0.11430567545503417, 0.14905488867245353, 0.18313113224139654, 2.5664431722220034, 0.0933321439878641, 4.468999087048992, 0.0015651438406000767, 0.0, 0.0, 0.0, 0.0, 0.0, 0.0, 0.0, 0.0, 0.06562879270306562, 1.9099818745111075, 0.0, 0.0, 0.0, 0.0, 0.0, 4.836566150368791, 3.283434039162329, 3.773411455247902, 4.095562623765851, 8.8470978048855, 2.201309650246152, 0.14189569816618763, 0.04579173438075903, 1.278610125369043, 5.04900000000001, 0.0, 0.14625424740552592, 0.0, 0.0, 0.0, 0.0, 0.0, 0.0, 0.0, 0.0, 0.030678020310175844, 10.46874201656582, 0.0, 0.0, 0.0, 0.0, 0.0, 0.0, 0.0, 0.0, 2.9245832499999835, 7.3114581250000015, 7.311458125000009, 8.77374975, 7.311458124999994, 1.462291625000013, 0.08528215520889934, 0.0, 0.05592405285952635, 1.6111111111111107, 8.05555555555554, 1.9333333333333407, 0.07316591720978963, 0.0, 1.21499899999999, 1.3531250000000092, 6.765625, 8.118749999999991, 16.237499999999994, 0.0, 0.0, 0.0, 1.1450438666656595, 24.674999491101364, 24.675017754843726, 0.0, 0.11999893589536535, 1.3422552633966278, 1.371508223829182, 0.0, 0.0, 0.0, 0.0, 6.898724299826422, 0.0, 0.0, 0.0, 0.0, 7.917078312349965, 0.6401066885314114, 0.6401066885314218, 6.770280916483919, 0.12470709612363001, 0.0, 0.0, 0.12470709612363001, 0.24471192958911625, 0.0, 0.0, 0.0, 0.0, 6.77028091648398, 6.891230564122966, 0.79180302460917, 0.0, 1.2767039777300673, 0.6224995000000089, 0.0, 0.0, 0.0, 0.0, 0.6225195800135438, 9.38861373131313, 7.813793799175489, 7.539753949108632, 3.90609876619995, 3.9070155594371756, 3.907138911754977, 0.03011109607530945, 0.0]\n"
     ]
    }
   ],
   "metadata": {}
  },
  {
   "cell_type": "markdown",
   "source": [
    "### The following block creates a dxf file for testing purposes."
   ],
   "metadata": {}
  },
  {
   "cell_type": "code",
   "execution_count": 29,
   "source": [
    "#write simple plan to architecture plan (just polygons)\n",
    "doc = architecture_dxf\n",
    "new_msp = doc.modelspace()\n",
    "doc.layers.new(name='SIMPLE_PLAN', dxfattribs={'linetype': 'DASHED', 'color': 10})\n",
    "polylines = simple_model.query(\n",
    "            'LWPolyline[layer==\"{}\"]'.format(\"RAUMPOLYGON\"))\n",
    "for polyline in polylines:\n",
    "    new_msp.add_lwpolyline(polyline, dxfattribs={'layer': 'RAUMPOLYGON'})\n",
    "doc.saveas(\"architecture_simple.dxf\")"
   ],
   "outputs": [],
   "metadata": {}
  }
 ]
}