{
 "metadata": {
  "language_info": {
   "codemirror_mode": {
    "name": "ipython",
    "version": 3
   },
   "file_extension": ".py",
   "mimetype": "text/x-python",
   "name": "python",
   "nbconvert_exporter": "python",
   "pygments_lexer": "ipython3",
   "version": "3.9.4"
  },
  "orig_nbformat": 2,
  "kernelspec": {
   "name": "python394jvsc74a57bd0e8082007cc5179bbb8dc8a25a57e5e62c5dad051aff258c997e3ecc8ec790ded",
   "display_name": "Python 3.9.4 64-bit ('projektstudium-nudata-gruppe-b-vb0qTe1p': pipenv)"
  }
 },
 "nbformat": 4,
 "nbformat_minor": 2,
 "cells": [
  {
   "cell_type": "markdown",
   "source": [
    "## Importsetup"
   ],
   "metadata": {}
  },
  {
   "cell_type": "code",
   "execution_count": 17,
   "source": [
    "\n",
    "\n",
    "###########################################################################\n",
    "from app.main.extraction.dxf_extraction_coordinator import DxfExtractionCoordinator\n",
    "from app.main.models.wall import Wall \n",
    "from app.main.models.architecture_wall import Architectur_Wall\n",
    "from app.main.models.point import Point \n",
    "from app.main.models.window import Window\n",
    "from app.main.services.walls_extraction import WallsExtraction\n",
    "from app.main.services.dxf_extraction_simple import DxfExtractionSimple\n",
    "from app.main.dtos.request.extraction_request_file import ExtractionRequestFile\n",
    "from app.main.models.line import Line \n",
    "from app.main.constants import (PLOT_DPI, PLOT_LINE_WIDTH_LARGE,\n",
    "                                PLOT_LINE_WIDTH_SMALL, DefaultColors,\n",
    "                                OrientationColors, PlotStyle, PlotTypes)\n",
    "###########################################################################\n",
    "from shapely.geometry.polygon import LinearRing\n",
    "from shapely.geometry.polygon import Polygon as shapePolygon\n",
    "from shapely.geometry import Point as shapePoint\n",
    "from shapely.geometry import LineString\n",
    "import math\n",
    "import numpy as np\n",
    "import itertools as it\n",
    "from scipy.spatial.distance import cdist\n",
    "import ezdxf\n",
    "import uuid\n",
    "\n",
    "import matplotlib.pyplot as plt\n",
    "import matplotlib.patches as mpatches\n",
    "import operator\n",
    "\n",
    "###########################################################################\n",
    "file_path_simple = '../../media/Einfache_Plaene_Compass/'\n",
    "file_path_architecture = '../../media/Architektenplaene/'\n",
    "###########################################################################\n",
    "file_name_simple = 'R-Bau_D_EG.dxf'\n",
    "file_name_architecutre = 'R-Bau_A_2OG.dxf'\n",
    "###########################################################################\n",
    "simple_dxf = ezdxf.readfile(file_path_simple+file_name_simple)\n",
    "architecture_dxf = ezdxf.readfile(file_path_architecture+file_name_architecutre)\n",
    "simple_model = simple_dxf.modelspace()\n",
    "arichtecture_model = architecture_dxf.modelspace()"
   ],
   "outputs": [],
   "metadata": {}
  },
  {
   "cell_type": "markdown",
   "source": [
    "## Creating dxf files for analysis"
   ],
   "metadata": {}
  },
  {
   "cell_type": "code",
   "execution_count": 18,
   "source": [
    "#Read pillar circles from architecture wall\n",
    "architecture_polylines = []\n",
    "architecture_lines = []\n",
    "fassaden_polylines = arichtecture_model.query(\"LWPolyline[layer=='A_05_FASSADE_ELEMENTE']\")#.first.get_points('xy')\n",
    "\n",
    "#lines\n",
    "fassaden_lines = arichtecture_model.query(\"LINE[layer=='A_05_FASSADE_ELEMENTE']\")\n",
    "\n",
    "#Arcs\n",
    "fassaden_arc = arichtecture_model.query(\"ARC[layer=='A_05_FASSADE_ELEMENTE']\")\n",
    "\n",
    "for polyline in fassaden_polylines:\n",
    "    architecture_polylines.append(polyline)\n",
    "for line in fassaden_lines:\n",
    "    architecture_lines.append(line)\n",
    "\n",
    "doc = ezdxf.new('R2000')\n",
    "msp = doc.modelspace()\n",
    "doc.layers.new(name='FASSADE_LINES', dxfattribs={'linetype': 'DASHED', 'color': 1})\n",
    "doc.layers.new(name='FASSADE_POLYLINES', dxfattribs={'linetype': 'DASHED', 'color': 2})\n",
    "doc.layers.new(name='FASSADE_ARCS', dxfattribs={'linetype': 'DASHED', 'color': 3})\n",
    "\n",
    "#linetypes = ['BYLAYER', 'HIDDEN', '4.102_EG$0$CONTINOUS']\n",
    "linetypes = ['HIDDEN']\n",
    "for x in architecture_polylines:\n",
    "    #mylinetype = x.dxf.linetype\n",
    "    #if mylinetype not in linetypes:\n",
    "    #    linetypes.append(mylinetype)\n",
    "    if x.dxf.linetype in linetypes:\n",
    "        msp.add_lwpolyline(x, dxfattribs={'layer': 'FASSADE_POLYLINES'})\n",
    "\n",
    "#add lines to drawing\n",
    "coordinates = []\n",
    "\n",
    "for e in architecture_lines:\n",
    "    #mylinetype = e.dxf.linetype\n",
    "    #if mylinetype not in linetypes:\n",
    "    #    linetypes.append(mylinetype)\n",
    "    if e.dxftype() == 'LINE' and e.dxf.linetype in linetypes:\n",
    "        tupel = (e.dxf.start, e.dxf.end)\n",
    "        coordinates.append(tupel)\n",
    "\n",
    "for x in coordinates:\n",
    "    msp.add_line(x[0], x[1], dxfattribs={'layer': 'FASSADE_LINES'})\n",
    "\n",
    "\n",
    "#add arcs to drwawing\n",
    "for x in fassaden_arc:\n",
    "    #mylinetype = x.dxf.linetype\n",
    "    #if mylinetype not in linetypes:\n",
    "    #    linetypes.append(mylinetype)\n",
    "    if  x.dxf.linetype in linetypes:\n",
    "        msp.add_arc(x.dxf.center, x.dxf.radius, x.dxf.start_angle, x.dxf.end_angle, True, dxfattribs={'layer': 'FASSADE_ARCS'})\n",
    "\n",
    "print(linetypes)\n",
    "doc.saveas(\"facade_dashed_2og.dxf\")\n"
   ],
   "outputs": [
    {
     "output_type": "stream",
     "name": "stdout",
     "text": [
      "['HIDDEN']\n"
     ]
    }
   ],
   "metadata": {}
  },
  {
   "cell_type": "code",
   "execution_count": 3,
   "source": [
    "'''This method gets the length between points'''\n",
    "def get_length_between_points(point_1: Point, point_2: Point) -> float:\n",
    "    line_string = LineString([(point_1.x_coordinate, point_1.y_coordinate), (point_2.x_coordinate, point_2.y_coordinate)])\n",
    "    return line_string.length"
   ],
   "outputs": [],
   "metadata": {}
  },
  {
   "cell_type": "code",
   "execution_count": 4,
   "source": [
    "'''This method creates a point from a coordinate'''\n",
    "def create_point_from_coordinate(coordinate: tuple) -> Point:\n",
    "    return Point(x_coordinate=coordinate[0], y_coordinate=coordinate[1])"
   ],
   "outputs": [],
   "metadata": {}
  },
  {
   "cell_type": "code",
   "execution_count": 5,
   "source": [
    "'''This method creates a window from an ezdxf arc'''\n",
    "def create_window_from_arc(arc) -> Window:\n",
    "    window_id = str(uuid.uuid4())\n",
    "    angle = abs(arc.dxf.start_angle - arc.dxf.end_angle)\n",
    "    center_point = create_point_from_coordinate(arc.dxf.center)\n",
    "    start_point = create_point_from_coordinate(arc.start_point)\n",
    "    end_point = create_point_from_coordinate(arc.end_point)\n",
    "    radius = arc.dxf.radius\n",
    "    return Window(window_id, center_point, start_point, end_point, radius, angle)"
   ],
   "outputs": [],
   "metadata": {}
  },
  {
   "cell_type": "code",
   "execution_count": 6,
   "source": [
    "# testing the method\n",
    "windows = []\n",
    "for arc in fassaden_arc:\n",
    "    if arc.dxf.radius <=2.0:\n",
    "        window = create_window_from_arc(arc)\n",
    "        windows.append(window)\n"
   ],
   "outputs": [],
   "metadata": {}
  },
  {
   "cell_type": "code",
   "execution_count": 7,
   "source": [
    "'''This method creates a line string from 2 points'''\n",
    "def create_line_string_of_two_points(point_1: Point, point_2: Point)-> LineString:\n",
    "    return LineString([(point_1.x_coordinate, point_1.y_coordinate), (point_2.x_coordinate, point_2.y_coordinate)])"
   ],
   "outputs": [],
   "metadata": {}
  },
  {
   "cell_type": "markdown",
   "source": [
    "## Matching windows"
   ],
   "metadata": {}
  },
  {
   "cell_type": "code",
   "execution_count": 15,
   "source": [
    "#loop through windows to match them\n",
    "dxf_file = ezdxf.readfile(file_path_simple + file_name_simple)\n",
    "dxf_extraction_simple = DxfExtractionSimple()\n",
    "simple_polygons, polygons_with_virtual_entities, extracted_functionalities = dxf_extraction_simple.get_all_polygons(dxf_file ,file_path_simple + file_name_simple)\n",
    "\n",
    "for window in windows:\n",
    "    window.amount_matched = 0\n",
    "    window.is_matched = False\n",
    "    #create 2 linestrings\n",
    "    line_string_start = create_line_string_of_two_points(window.center_point, window.start_point)\n",
    "    line_string_end = create_line_string_of_two_points(window.center_point, window.end_point)\n",
    "    #loop through polygons\n",
    "    for polygon in simple_polygons:\n",
    "        matched = False\n",
    "        for wall in polygon.walls:\n",
    "            line_string_wall =create_line_string_of_two_points(wall.start_point, wall.end_point)\n",
    "            if line_string_wall.intersects(line_string_start) or line_string_wall.intersects(line_string_end):\n",
    "                window.is_matched = True\n",
    "                matched = True\n",
    "        if matched:\n",
    "            if not polygon.windows:\n",
    "                polygon.windows = []\n",
    "            window.amount_matched = window.amount_matched + 1\n",
    "            polygon.windows.append(window)\n",
    "\n",
    "\n",
    "#second run\n",
    "for polygon in simple_polygons:\n",
    "    for wall in polygon.walls:\n",
    "        line_string_wall =create_line_string_of_two_points(wall.start_point, wall.end_point)\n",
    "        for window in windows:\n",
    "            if window.is_matched:\n",
    "                continue \n",
    "            #create 2 linestrings\n",
    "            line_string_start = create_line_string_of_two_points(window.center_point, window.start_point)\n",
    "            line_string_end = create_line_string_of_two_points(window.center_point, window.end_point)\n",
    "            distance_center_start_wall = line_string_start.distance(line_string_wall)\n",
    "            distance_center_end_wall = line_string_end.distance(line_string_wall)\n",
    "            \n",
    "            if distance_center_start_wall <= 0.5 or distance_center_end_wall <= 0.5:\n",
    "                window.is_matched = True\n",
    "                if not polygon.windows:\n",
    "                    polygon.windows = []\n",
    "                    polygon.windows.append(window)\n",
    "                else:\n",
    "                    window_already_in_polygon = False\n",
    "                    for poly_window in polygon.windows:\n",
    "                        if window.window_id == poly_window.window_id:\n",
    "                            window_already_in_polygon = True\n",
    "                    if not window_already_in_polygon:\n",
    "                        polygon.windows.append(window)\n",
    "\n",
    "counter = 0\n",
    "for window in windows:\n",
    "    if not window.is_matched:\n",
    "        counter = counter + 1\n",
    "    \n",
    "print(\"Anzahl ungematchter Fenster: {}\".format(str(counter)))\n",
    "print(\"Anzahl Fenster insgesamt: {}\".format(str(len(windows))))\n",
    "            \n",
    "\n",
    "\n",
    "    "
   ],
   "outputs": [
    {
     "output_type": "stream",
     "name": "stderr",
     "text": [
      "2021-06-06 19:43:18.293 | SUCCESS  | app.main.services.orientation_extraction:get_north_orientation:117 - Compass extraction successful, return coordinate system\n",
      "2021-06-06 19:43:18.294 | INFO     | app.main.services.dxf_extraction_simple:get_all_polygons:78 - Orientation will be calculated.\n",
      "2021-06-06 19:43:18.294 | SUCCESS  | app.main.services.extraction_helper:get_modelspace:190 - sucessfully get_modelspace() from dxf_file: <ezdxf.document.Drawing object at 0x13c6d84c0>\n",
      "2021-06-06 19:43:18.295 | DEBUG    | app.main.services.extraction_helper:get_outline_polygon:199 - get_outline_polygon for modelspace: <ezdxf.layouts.layout.Modelspace object at 0x14140a220>\n",
      "2021-06-06 19:43:18.318 | DEBUG    | app.main.services.dxf_extraction_simple:get_all_polygons:91 - got all room_polylines on layer: RAUMPOLYGON\n",
      "Anzahl ungematchter Fenster: 7\n",
      "Anzahl Fenster insgesamt: 227\n"
     ]
    }
   ],
   "metadata": {}
  },
  {
   "cell_type": "code",
   "execution_count": 23,
   "source": [
    "'''This method plots unmatched windows'''\n",
    "def plot_unmatched_windows(windows: list[Window], polygons: list):\n",
    "    \n",
    "    for window in windows:\n",
    "        if not window.is_matched:\n",
    "            plt.plot([window.start_point.x_coordinate, window.end_point.x_coordinate], [window.start_point.y_coordinate, window.end_point.y_coordinate], color=DefaultColors.GRAY.value, linewidth=PLOT_LINE_WIDTH_LARGE)\n",
    "            plt.plot([window.center_point.x_coordinate, window.end_point.x_coordinate], [window.center_point.y_coordinate, window.end_point.y_coordinate], color=DefaultColors.RED.value, linewidth=PLOT_LINE_WIDTH_LARGE)\n",
    "            plt.plot([window.center_point.x_coordinate, window.start_point.x_coordinate], [window.center_point.y_coordinate, window.start_point.y_coordinate], color=DefaultColors.GREEN.value, linewidth=PLOT_LINE_WIDTH_LARGE)\n",
    "    \n",
    "    for polygon in polygons:\n",
    "        for wall in polygon.walls:\n",
    "            plt.plot([wall.start_point.x_coordinate,wall.end_point.x_coordinate], [wall.start_point.y_coordinate, wall.end_point.y_coordinate], color=\"k\", linewidth=PLOT_LINE_WIDTH_LARGE)\n",
    "    plt.tick_params(axis=PlotStyle.AXIS.value, left=PlotStyle.TICKS_LEFT.value, bottom=PlotStyle.TICKS_BOTTOM.value, labelleft=PlotStyle.LABEL_LEFT.value, labelbottom=PlotStyle.LABEL_BOTTOM.value)\n",
    "    plt.savefig(\"windows_unmatched\", dpi=PLOT_DPI)\n",
    "    plt.clf()\n",
    "\n",
    "'''This method plots duplicate windows'''\n",
    "def plot_duplicate_windows(windows: list[Window], polygons: list):\n",
    "    for window in windows:\n",
    "        plt.plot([window.start_point.x_coordinate, window.end_point.x_coordinate], [window.start_point.y_coordinate, window.end_point.y_coordinate], color=DefaultColors.GRAY.value, linewidth=PLOT_LINE_WIDTH_LARGE)\n",
    "        plt.plot([window.center_point.x_coordinate, window.end_point.x_coordinate], [window.center_point.y_coordinate, window.end_point.y_coordinate], color=DefaultColors.RED.value, linewidth=PLOT_LINE_WIDTH_LARGE)\n",
    "        plt.plot([window.center_point.x_coordinate, window.start_point.x_coordinate], [window.center_point.y_coordinate, window.start_point.y_coordinate], color=DefaultColors.GREEN.value, linewidth=PLOT_LINE_WIDTH_LARGE)\n",
    "    \n",
    "    for polygon in polygons:\n",
    "        for wall in polygon.walls:\n",
    "            plt.plot([wall.start_point.x_coordinate,wall.end_point.x_coordinate], [wall.start_point.y_coordinate, wall.end_point.y_coordinate], color=\"k\", linewidth=PLOT_LINE_WIDTH_LARGE)\n",
    "    plt.tick_params(axis=PlotStyle.AXIS.value, left=PlotStyle.TICKS_LEFT.value, bottom=PlotStyle.TICKS_BOTTOM.value, labelleft=PlotStyle.LABEL_LEFT.value, labelbottom=PlotStyle.LABEL_BOTTOM.value)\n",
    "    plt.savefig(\"windows_duplicate\", dpi=PLOT_DPI)\n",
    "    plt.clf()\n",
    "'''This method plots a list of windows'''\n",
    "def plot_windows(windows: list[Window]):\n",
    "    \n",
    "    for window in windows:\n",
    "        plt.plot([window.start_point.x_coordinate, window.end_point.x_coordinate], [window.start_point.y_coordinate, window.end_point.y_coordinate], color=DefaultColors.GRAY.value, linewidth=PLOT_LINE_WIDTH_LARGE)\n",
    "        plt.plot([window.center_point.x_coordinate, window.end_point.x_coordinate], [window.center_point.y_coordinate, window.end_point.y_coordinate], color=DefaultColors.RED.value, linewidth=PLOT_LINE_WIDTH_LARGE)\n",
    "        plt.plot([window.center_point.x_coordinate, window.start_point.x_coordinate], [window.center_point.y_coordinate, window.start_point.y_coordinate], color=DefaultColors.GREEN.value, linewidth=PLOT_LINE_WIDTH_LARGE)\n",
    "    plt.tick_params(axis=PlotStyle.AXIS.value, left=PlotStyle.TICKS_LEFT.value, bottom=PlotStyle.TICKS_BOTTOM.value, labelleft=PlotStyle.LABEL_LEFT.value, labelbottom=PlotStyle.LABEL_BOTTOM.value)\n",
    "    plt.savefig(\"windows\", dpi=PLOT_DPI)\n",
    "    plt.clf()\n",
    "\n",
    "\n",
    "\n"
   ],
   "outputs": [],
   "metadata": {}
  },
  {
   "cell_type": "markdown",
   "source": [
    "## Plotting results"
   ],
   "metadata": {}
  },
  {
   "cell_type": "code",
   "execution_count": 25,
   "source": [
    "plot_windows(windows)\n",
    "#plot_unmatched_windows(windows, simple_polygons)\n",
    "special_windows = []\n",
    "\n",
    "for window in windows:\n",
    "    if window.min_wall_distance:\n",
    "        if window.min_wall_distance > 0.5:\n",
    "            special_windows.append(window)\n",
    "plot_unmatched_windows(special_windows, simple_polygons)\n",
    "counter = 0\n",
    "for polygon in simple_polygons:\n",
    "    if polygon.windows:\n",
    "        counter = counter + len(polygon.windows)\n",
    "print(\"Anzahl Fenster {}\".format(str(counter)))\n",
    "flat_windows = []\n",
    "for polygon in simple_polygons:\n",
    "    if polygon.windows:\n",
    "        for window in polygon.windows:\n",
    "            flat_windows.append(window.window_id)\n",
    "duplicate_windows = set([x for x in flat_windows if flat_windows.count(x) > 1])\n",
    "print(duplicate_windows)\n",
    "\n",
    "#duplicates = {'910de528-bef7-4214-a717-7cb86cbd3580', 'ee5a0c39-3ae0-48e1-99da-a87077c11514'}\n",
    "duplicate_window_objects = []\n",
    "for polygon in simple_polygons:\n",
    "    if polygon.windows:\n",
    "        for window in polygon.windows:\n",
    "            if window.window_id == '910de528-bef7-4214-a717-7cb86cbd3580' or window.window_id =='ee5a0c39-3ae0-48e1-99da-a87077c11514':\n",
    "                duplicate_window_objects.append(window)\n",
    "plot_duplicate_windows(duplicate_window_objects, simple_polygons)\n",
    "print(duplicate_window_objects)"
   ],
   "outputs": [
    {
     "output_type": "stream",
     "name": "stdout",
     "text": [
      "Anzahl Fenster 222\n",
      "{'910de528-bef7-4214-a717-7cb86cbd3580', 'ee5a0c39-3ae0-48e1-99da-a87077c11514'}\n",
      "[Window(window_id='910de528-bef7-4214-a717-7cb86cbd3580', center_point=Point(x_coordinate=-24.65481884964987, y_coordinate=24.41316514892236, s_width=None, e_width=None, b_value=None), start_point=Point(x_coordinate=-24.65481884964987, y_coordinate=25.55316514892236, s_width=None, e_width=None, b_value=None), end_point=Point(x_coordinate=-25.79481884964987, y_coordinate=24.41316514892236, s_width=None, e_width=None, b_value=None), radius=1.14, angle=90.0, is_matched=True, amount_matched=2, min_wall_distance=None), Window(window_id='ee5a0c39-3ae0-48e1-99da-a87077c11514', center_point=Point(x_coordinate=-23.35481884964994, y_coordinate=24.41316514892236, s_width=None, e_width=None, b_value=None), start_point=Point(x_coordinate=-23.35481884964994, y_coordinate=25.55316514892236, s_width=None, e_width=None, b_value=None), end_point=Point(x_coordinate=-24.494818849649942, y_coordinate=24.41316514892236, s_width=None, e_width=None, b_value=None), radius=1.14, angle=90.0, is_matched=True, amount_matched=2, min_wall_distance=None), Window(window_id='910de528-bef7-4214-a717-7cb86cbd3580', center_point=Point(x_coordinate=-24.65481884964987, y_coordinate=24.41316514892236, s_width=None, e_width=None, b_value=None), start_point=Point(x_coordinate=-24.65481884964987, y_coordinate=25.55316514892236, s_width=None, e_width=None, b_value=None), end_point=Point(x_coordinate=-25.79481884964987, y_coordinate=24.41316514892236, s_width=None, e_width=None, b_value=None), radius=1.14, angle=90.0, is_matched=True, amount_matched=2, min_wall_distance=None), Window(window_id='ee5a0c39-3ae0-48e1-99da-a87077c11514', center_point=Point(x_coordinate=-23.35481884964994, y_coordinate=24.41316514892236, s_width=None, e_width=None, b_value=None), start_point=Point(x_coordinate=-23.35481884964994, y_coordinate=25.55316514892236, s_width=None, e_width=None, b_value=None), end_point=Point(x_coordinate=-24.494818849649942, y_coordinate=24.41316514892236, s_width=None, e_width=None, b_value=None), radius=1.14, angle=90.0, is_matched=True, amount_matched=2, min_wall_distance=None)]\n"
     ]
    }
   ],
   "metadata": {}
  },
  {
   "cell_type": "code",
   "execution_count": null,
   "source": [],
   "outputs": [],
   "metadata": {}
  }
 ]
}